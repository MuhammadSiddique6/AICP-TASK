{
 "cells": [
  {
   "cell_type": "code",
   "execution_count": 1,
   "id": "c7f6324e",
   "metadata": {},
   "outputs": [
    {
     "name": "stdout",
     "output_type": "stream",
     "text": [
      "Array of even integers from 30 to 70:\n",
      "[30 32 34 36 38 40 42 44 46 48 50 52 54 56 58 60 62 64 66 68 70]\n"
     ]
    }
   ],
   "source": [
    "#task1\n",
    "import numpy as np\n",
    "\n",
    "# Create an array of even integers from 30 to 70\n",
    "even_integers = np.arange(30, 71, 2)\n",
    "\n",
    "# Print the resulting array\n",
    "print(\"Array of even integers from 30 to 70:\")\n",
    "print(even_integers)"
   ]
  },
  {
   "cell_type": "code",
   "execution_count": 2,
   "id": "7ce6b710",
   "metadata": {},
   "outputs": [
    {
     "name": "stdout",
     "output_type": "stream",
     "text": [
      "Array of 15 random numbers from a standard normal distribution:\n",
      "[-1.25884056 -0.07726358 -1.78805393  0.70007694 -0.50128672 -0.88447117\n",
      "  1.92590232 -0.55830759 -0.29895547  0.05030289  1.20514119  1.28695059\n",
      "  0.42981783 -0.12726416  0.07935178]\n"
     ]
    }
   ],
   "source": [
    "# Generate an array of 15 random numbers from a standard normal distribution\n",
    "random_numbers = np.random.randn(15)\n",
    "\n",
    "# Print the resulting array\n",
    "print(\"Array of 15 random numbers from a standard normal distribution:\")\n",
    "print(random_numbers)"
   ]
  },
  {
   "cell_type": "code",
   "execution_count": 3,
   "id": "d7fb3c57",
   "metadata": {},
   "outputs": [
    {
     "name": "stdout",
     "output_type": "stream",
     "text": [
      "Cross-product of the two matrices:\n",
      "[[-10  20 -10]\n",
      " [-10  20 -10]\n",
      " [-10  20 -10]]\n"
     ]
    }
   ],
   "source": [
    "# Create two matrices\n",
    "matrix1 = np.array([[1, 2, 3],\n",
    "                    [4, 5, 6],\n",
    "                    [7, 8, 9]])\n",
    "\n",
    "matrix2 = np.array([[9, 8, 7],\n",
    "                    [6, 5, 4],\n",
    "                    [3, 2, 1]])\n",
    "\n",
    "# Compute the cross-product of the two matrices\n",
    "cross_product = np.cross(matrix1, matrix2)\n",
    "\n",
    "# Print the result\n",
    "print(\"Cross-product of the two matrices:\")\n",
    "print(cross_product)"
   ]
  },
  {
   "cell_type": "code",
   "execution_count": 4,
   "id": "d30200ad",
   "metadata": {},
   "outputs": [
    {
     "name": "stdout",
     "output_type": "stream",
     "text": [
      "Determinant of the matrix:\n",
      "10.000000000000002\n"
     ]
    }
   ],
   "source": [
    "# Create a square matrix\n",
    "matrix = np.array([[4, 7],\n",
    "                   [2, 6]])\n",
    "\n",
    "# Compute the determinant of the matrix\n",
    "determinant = np.linalg.det(matrix)\n",
    "\n",
    "# Print the result\n",
    "print(\"Determinant of the matrix:\")\n",
    "print(determinant)"
   ]
  },
  {
   "cell_type": "code",
   "execution_count": 5,
   "id": "86070960",
   "metadata": {},
   "outputs": [
    {
     "name": "stdout",
     "output_type": "stream",
     "text": [
      "3x3x3 Array with random values:\n",
      "[[[0.78065743 0.17623338 0.6074451 ]\n",
      "  [0.62337099 0.50765819 0.70567615]\n",
      "  [0.23236462 0.93280239 0.89235642]]\n",
      "\n",
      " [[0.6779429  0.56041145 0.82417987]\n",
      "  [0.67947014 0.56837436 0.97250704]\n",
      "  [0.93954329 0.87009352 0.3093838 ]]\n",
      "\n",
      " [[0.17940902 0.8108896  0.32968481]\n",
      "  [0.34717526 0.5310469  0.34776753]\n",
      "  [0.310523   0.60169739 0.47662126]]]\n"
     ]
    }
   ],
   "source": [
    "# Create a 3x3x3 array with random values\n",
    "random_array = np.random.rand(3, 3, 3)\n",
    "\n",
    "# Print the resulting array\n",
    "print(\"3x3x3 Array with random values:\")\n",
    "print(random_array)"
   ]
  },
  {
   "cell_type": "code",
   "execution_count": 6,
   "id": "e2326785",
   "metadata": {},
   "outputs": [
    {
     "name": "stdout",
     "output_type": "stream",
     "text": [
      "5x5 Array with random values:\n",
      "[[0.77850803 0.29477819 0.08799782 0.93783638 0.21124201]\n",
      " [0.09718951 0.85502026 0.11538873 0.72932705 0.80016824]\n",
      " [0.89839509 0.38167578 0.99180201 0.50603256 0.18780982]\n",
      " [0.92135703 0.70504236 0.11161064 0.9493077  0.69229219]\n",
      " [0.66077559 0.66158969 0.38552921 0.49675881 0.28020913]]\n",
      "\n",
      " Minimum value: 0.08799781686287012\n",
      " Maximum value: 0.9918020067501201\n"
     ]
    }
   ],
   "source": [
    "# Create a 5x5 array with random values\n",
    "random_array = np.random.rand(5, 5)\n",
    "\n",
    "# Print the array\n",
    "print(\"5x5 Array with random values:\")\n",
    "print(random_array)\n",
    "\n",
    "# Find the minimum and maximum values\n",
    "min_value = np.min(random_array)\n",
    "max_value = np.max(random_array)\n",
    "\n",
    "# Print the minimum and maximum values\n",
    "print(\"\\n Minimum value:\", min_value)\n",
    "print(\" Maximum value:\", max_value)"
   ]
  },
  {
   "cell_type": "code",
   "execution_count": 7,
   "id": "fb166540",
   "metadata": {},
   "outputs": [
    {
     "name": "stdout",
     "output_type": "stream",
     "text": [
      "Mean along the second axis:\n",
      "[2. 5. 8.]\n",
      "\n",
      "Standard deviation along the second axis:\n",
      "[0.81649658 0.81649658 0.81649658]\n",
      "\n",
      "Variance along the second axis:\n",
      "[0.66666667 0.66666667 0.66666667]\n"
     ]
    }
   ],
   "source": [
    "# Create a sample 2D array\n",
    "array = np.array([[1, 2, 3],\n",
    "                  [4, 5, 6],\n",
    "                  [7, 8, 9]])\n",
    "\n",
    "# Compute the mean along the second axis (axis=1)\n",
    "mean_values = np.mean(array, axis=1)\n",
    "\n",
    "# Compute the standard deviation along the second axis (axis=1)\n",
    "std_dev_values = np.std(array, axis=1)\n",
    "\n",
    "# Compute the variance along the second axis (axis=1)\n",
    "variance_values = np.var(array, axis=1)\n",
    "\n",
    "# Print the results\n",
    "print(\"Mean along the second axis:\")\n",
    "print(mean_values)\n",
    "\n",
    "print(\"\\nStandard deviation along the second axis:\")\n",
    "print(std_dev_values)\n",
    "\n",
    "print(\"\\nVariance along the second axis:\")\n",
    "print(variance_values)"
   ]
  },
  {
   "cell_type": "code",
   "execution_count": null,
   "id": "b9959d0d",
   "metadata": {},
   "outputs": [],
   "source": []
  }
 ],
 "metadata": {
  "kernelspec": {
   "display_name": "Python 3 (ipykernel)",
   "language": "python",
   "name": "python3"
  },
  "language_info": {
   "codemirror_mode": {
    "name": "ipython",
    "version": 3
   },
   "file_extension": ".py",
   "mimetype": "text/x-python",
   "name": "python",
   "nbconvert_exporter": "python",
   "pygments_lexer": "ipython3",
   "version": "3.10.9"
  }
 },
 "nbformat": 4,
 "nbformat_minor": 5
}
